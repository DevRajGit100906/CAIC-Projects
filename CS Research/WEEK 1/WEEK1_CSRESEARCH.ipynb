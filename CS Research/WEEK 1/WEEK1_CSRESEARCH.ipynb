{
  "nbformat": 4,
  "nbformat_minor": 0,
  "metadata": {
    "colab": {
      "provenance": []
    },
    "kernelspec": {
      "name": "python3",
      "display_name": "Python 3"
    },
    "language_info": {
      "name": "python"
    }
  },
  "cells": [
    {
      "cell_type": "markdown",
      "source": [
        "# LINEAR REGRESSION FUNCTION\n",
        "\n",
        "This function takes 4 parameters:\n",
        "- X: Input feature matrix (NumPy array)\n",
        "- Y: Target vector (NumPy array)\n",
        "- lr: Learning rate (float)\n",
        "- lambda_: L1 regularization coefficient (float)\n",
        "\n",
        "It returns the weights, i.e. the model parameters of the linear regression model. We have only used numpy and pandas to code this function."
      ],
      "metadata": {
        "id": "oGxHCmo_Osvi"
      }
    },
    {
      "cell_type": "code",
      "execution_count": null,
      "metadata": {
        "id": "YFQm3J4LOn13"
      },
      "outputs": [],
      "source": [
        "def linearRegression(X: np.array, Y: np.array, lr: float, lambda_: float):\n",
        "  import numpy as np\n",
        "  import pandas as pd\n",
        "\n",
        "  m, n = X.shape\n",
        "  weights = np.zeros(n)\n",
        "  bias = 0.0\n",
        "  epochs = 1000\n",
        "\n",
        "  for epoch in range(epochs):\n",
        "    y_pred = np.dot(X, weights) + bias\n",
        "    error = y_pred - y_train\n",
        "    weights_grad = (1/m) * np.dot(X.T, error) + (lambda_/m) * np.sign(weights)\n",
        "    bias_grad = (1/m) * np.sum(error)\n",
        "    weights -= lr * weights_grad\n",
        "    bias -= lr * bias_grad\n",
        "\n",
        "  return weights"
      ]
    },
    {
      "cell_type": "markdown",
      "source": [
        "# NEWTON-RAPHSON METHOD\n",
        "\n",
        "This function will compute the roots of a function, and consequently the mth root of a number by the Newton-Raphson method."
      ],
      "metadata": {
        "id": "zFUEEeTbSEOT"
      }
    },
    {
      "cell_type": "code",
      "source": [
        "\"\"\"def newtonRaphson(x: float, m: float):\n",
        "    root = x / m\n",
        "    def find_root_recursive(current_root, tolerance=1e-7, max_iterations=100):\n",
        "        if abs(current_root**m - x) < tolerance or max_iterations == 0:\n",
        "            return current_root\n",
        "        else:\n",
        "            next_root = current_root - (current_root**m - x) / (m * current_root**(m-1))\n",
        "            return find_root_recursive(next_root, tolerance, max_iterations - 1)\n",
        "    return find_root_recursive(root)\"\"\""
      ],
      "metadata": {
        "id": "4kdEdajtSaTb",
        "colab": {
          "base_uri": "https://localhost:8080/"
        },
        "outputId": "c7f36aa9-fe91-450c-8525-9a6333c6991d"
      },
      "execution_count": null,
      "outputs": [
        {
          "output_type": "execute_result",
          "data": {
            "text/plain": [
              "1.4142135623746899"
            ]
          },
          "metadata": {},
          "execution_count": 3
        }
      ]
    }
  ]
}